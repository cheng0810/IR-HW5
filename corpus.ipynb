{
 "cells": [
  {
   "cell_type": "code",
   "execution_count": 5,
   "metadata": {},
   "outputs": [
    {
     "name": "stdout",
     "output_type": "stream",
     "text": [
      "2265\n"
     ]
    }
   ],
   "source": [
    "with open('query_list.txt') as file:\n",
    "    query_list = file.read().rstrip().split()\n",
    "with open('doc_list.txt') as file:\n",
    "    doc_list = file.read().rstrip().split()\n",
    "num = 0\n",
    "f = open('WE.txt','w')\n",
    "# for query_name in query_list:      \n",
    "#     with open('Query/' + query_name) as file:\n",
    "#         print(type(file.read()))\n",
    "#         voc = file.read().replace('-1','').replace('\\n','')\n",
    "        \n",
    "#         f.write(voc)\n",
    "#         f.write('\\n')\n",
    "        \n",
    "for doc_name in doc_list:      \n",
    "    with open('Document/' + doc_name) as file:\n",
    "        for line in range(3):  #we don't want first three line data\n",
    "            file.readline() \n",
    "        voc = file.read()#.replace('-1','').replace('\\n','')\n",
    "#         print(type(voc))\n",
    "        \n",
    "        f.write(voc)\n",
    "        f.write('\\n')\n",
    "        num = num+1\n",
    "\n",
    "# len(doc_list)\n",
    "\n",
    "print(num)"
   ]
  },
  {
   "cell_type": "code",
   "execution_count": null,
   "metadata": {},
   "outputs": [],
   "source": []
  }
 ],
 "metadata": {
  "kernelspec": {
   "display_name": "Python 3",
   "language": "python",
   "name": "python3"
  },
  "language_info": {
   "codemirror_mode": {
    "name": "ipython",
    "version": 3
   },
   "file_extension": ".py",
   "mimetype": "text/x-python",
   "name": "python",
   "nbconvert_exporter": "python",
   "pygments_lexer": "ipython3",
   "version": "3.5.2"
  }
 },
 "nbformat": 4,
 "nbformat_minor": 2
}
